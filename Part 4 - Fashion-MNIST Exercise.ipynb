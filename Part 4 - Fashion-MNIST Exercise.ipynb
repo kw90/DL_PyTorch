{
 "cells": [
  {
   "cell_type": "markdown",
   "metadata": {},
   "source": [
    "# Classifying Fashion-MNIST\n",
    "\n",
    "Now it's your turn to build and train a neural network. You'll be using the [Fashion-MNIST dataset](https://github.com/zalandoresearch/fashion-mnist), a drop-in replacement for the MNIST dataset. MNIST is actually quite trivial with neural networks where you can easily achieve better than 97% accuracy. Fashion-MNIST is a set of 28x28 greyscale images of clothes. It's more complex than MNIST, so it's a better representation of the actual performance of your network, and a better representation of datasets you'll use in the real world.\n",
    "\n",
    "<img src='assets/fashion-mnist-sprite.png' width=500px>\n",
    "\n",
    "In this notebook, you'll build your own neural network. For the most part, you could just copy and paste the code from Part 3, but you wouldn't be learning. It's important for you to write the code yourself and get it to work. Feel free to consult the previous notebook though as you work through this.\n",
    "\n",
    "First off, let's load the dataset through torchvision."
   ]
  },
  {
   "cell_type": "code",
   "execution_count": 1,
   "metadata": {},
   "outputs": [],
   "source": [
    "import torch\n",
    "from torchvision import datasets, transforms\n",
    "import helper\n",
    "\n",
    "# Define a transform to normalize the data\n",
    "transform = transforms.Compose([transforms.ToTensor(),\n",
    "                                transforms.Normalize((0.5, 0.5, 0.5), (0.5, 0.5, 0.5))])\n",
    "# Download and load the training data\n",
    "trainset = datasets.FashionMNIST('F_MNIST_data/', download=True, train=True, transform=transform)\n",
    "trainloader = torch.utils.data.DataLoader(trainset, batch_size=64, shuffle=True)\n",
    "\n",
    "# Download and load the test data\n",
    "testset = datasets.FashionMNIST('F_MNIST_data/', download=True, train=False, transform=transform)\n",
    "testloader = torch.utils.data.DataLoader(testset, batch_size=64, shuffle=True)"
   ]
  },
  {
   "cell_type": "markdown",
   "metadata": {},
   "source": [
    "Here we can see one of the images."
   ]
  },
  {
   "cell_type": "code",
   "execution_count": 2,
   "metadata": {
    "scrolled": true
   },
   "outputs": [
    {
     "data": {
      "image/png": "[encoded data removed]",
      "text/plain": [
       "<matplotlib.figure.Figure at 0x7f0c80242940>"
      ]
     },
     "metadata": {
      "needs_background": "light"
     },
     "output_type": "display_data"
    }
   ],
   "source": [
    "image, label = next(iter(trainloader))\n",
    "helper.imshow(image[0,:]);"
   ]
  },
  {
   "cell_type": "code",
   "execution_count": 16,
   "metadata": {},
   "outputs": [
    {
     "data": {
      "text/plain": [
       "torch.Size([1, 28, 28])"
      ]
     },
     "execution_count": 16,
     "metadata": {},
     "output_type": "execute_result"
    }
   ],
   "source": [
    "images[0].shape"
   ]
  },
  {
   "cell_type": "code",
   "execution_count": 23,
   "metadata": {},
   "outputs": [
    {
     "data": {
      "text/plain": [
       "torch.Size([64, 1, 28, 28])"
      ]
     },
     "execution_count": 23,
     "metadata": {},
     "output_type": "execute_result"
    }
   ],
   "source": [
    "images.size()"
   ]
  },
  {
   "cell_type": "markdown",
   "metadata": {},
   "source": [
    "With the data loaded, it's time to import the necessary packages."
   ]
  },
  {
   "cell_type": "code",
   "execution_count": 3,
   "metadata": {},
   "outputs": [],
   "source": [
    "%matplotlib inline\n",
    "%config InlineBackend.figure_format = 'retina'\n",
    "\n",
    "import matplotlib.pyplot as plt\n",
    "import numpy as np\n",
    "import time\n",
    "\n",
    "import torch\n",
    "from torch import nn\n",
    "from torch import optim\n",
    "import torch.nn.functional as F\n",
    "from torchvision import datasets, transforms\n",
    "\n",
    "import helper"
   ]
  },
  {
   "cell_type": "markdown",
   "metadata": {},
   "source": [
    "## Building the network\n",
    "\n",
    "Here you should define your network. As with MNIST, each image is 28x28 which is a total of 784 pixels, and there are 10 classes. You should include at least one hidden layer. We suggest you use ReLU activations for the layers and to return the logits from the forward pass. It's up to you how many layers you add and the size of those layers."
   ]
  },
  {
   "cell_type": "code",
   "execution_count": 25,
   "metadata": {},
   "outputs": [
    {
     "name": "stdout",
     "output_type": "stream",
     "text": [
      "Net(\n",
      "  (conv1): Conv2d(1, 6, kernel_size=(3, 3), stride=(1, 1), padding=(1, 1))\n",
      "  (pool): MaxPool2d(kernel_size=2, stride=2, padding=0, dilation=1, ceil_mode=False)\n",
      "  (fc1): Linear(in_features=1176, out_features=120, bias=True)\n",
      "  (fc2): Linear(in_features=120, out_features=84, bias=True)\n",
      "  (fc3): Linear(in_features=84, out_features=10, bias=True)\n",
      ")\n"
     ]
    }
   ],
   "source": [
    "class Net(nn.Module):\n",
    "    \n",
    "    def __init__(self):\n",
    "        super().__init__()\n",
    "        # 1 input image channel, \n",
    "        # 6 output channels\n",
    "        # 3x3 square convolution kernel\n",
    "        self.conv1 = nn.Conv2d(1, 6, kernel_size=3, stride=1, padding=1)\n",
    "        self.pool = torch.nn.MaxPool2d(kernel_size=2, stride=2, padding=0)\n",
    "        self.fc1 = nn.Linear(6 * 14 * 14, 120)  # 14*14 from image dimension\n",
    "        self.fc2 = nn.Linear(120, 84)\n",
    "        self.fc3 = nn.Linear(84, 10)\n",
    "\n",
    "    def forward(self, x):\n",
    "        x = F.relu(self.conv1(x))\n",
    "        # Changes size from (1, 28, 28) to (6, 28, 28)\n",
    "        x = self.pool(x)\n",
    "        # Changes size from (6, 28, 28) to (6, 14, 14)\n",
    "        x = x.view(-1, self.num_flat_features(x))\n",
    "        #Reshape data to input to the input layer of the neural net\n",
    "        #Size changes from (6, 14, 14) to (1, 1176)\n",
    "        x = F.relu(self.fc1(x))\n",
    "        x = F.relu(self.fc2(x))\n",
    "        x = self.fc3(x)\n",
    "        return x\n",
    "    \n",
    "    def num_flat_features(self, x):\n",
    "        size = x.size()[1:]  # all dimensions except the batch dimension\n",
    "        num_features = 1\n",
    "        for s in size:\n",
    "            num_features *= s\n",
    "        return num_features\n",
    "    \n",
    "net = Net()\n",
    "print(net)"
   ]
  },
  {
   "cell_type": "markdown",
   "metadata": {},
   "source": [
    "# Train the network\n",
    "\n",
    "Now you should create your network and train it. First you'll want to define [the criterion](http://pytorch.org/docs/master/nn.html#loss-functions) ( something like `nn.CrossEntropyLoss`) and [the optimizer](http://pytorch.org/docs/master/optim.html) (typically `optim.SGD` or `optim.Adam`).\n",
    "\n",
    "Then write the training code. Remember the training pass is a fairly straightforward process:\n",
    "\n",
    "* Make a forward pass through the network to get the logits \n",
    "* Use the logits to calculate the loss\n",
    "* Perform a backward pass through the network with `loss.backward()` to calculate the gradients\n",
    "* Take a step with the optimizer to update the weights\n",
    "\n",
    "By adjusting the hyperparameters (hidden units, learning rate, etc), you should be able to get the training loss below 0.4."
   ]
  },
  {
   "cell_type": "code",
   "execution_count": 31,
   "metadata": {},
   "outputs": [],
   "source": [
    "# TODO: Create the network, define the criterion and optimizer\n",
    "criterion = nn.CrossEntropyLoss()\n",
    "optimizer = optim.SGD(net.parameters(), lr=0.01)"
   ]
  },
  {
   "cell_type": "code",
   "execution_count": 32,
   "metadata": {
    "scrolled": true
   },
   "outputs": [
    {
     "name": "stdout",
     "output_type": "stream",
     "text": [
      "Running epoch: 0\n",
      "Loss: 2.2975812435150145\n",
      "Loss: 2.2815648635228474\n",
      "Loss: 2.2687084833780924\n",
      "Loss: 2.2467698017756144\n",
      "Loss: 2.2097573280334473\n",
      "Loss: 2.1453967253367106\n",
      "Loss: 2.031596918900808\n",
      "Loss: 1.8448954145113627\n",
      "Loss: 1.6262229323387145\n",
      "Loss: 1.4097031831741333\n",
      "Loss: 1.2652233242988586\n",
      "Loss: 1.1119597911834718\n",
      "Loss: 0.9922839721043905\n",
      "Loss: 0.9479679981867473\n",
      "Loss: 0.9034932414690654\n",
      "Loss: 0.8067387918631236\n",
      "Loss: 0.8030556281407674\n",
      "Loss: 0.7758240044116974\n",
      "Loss: 0.7748076140880584\n",
      "Loss: 0.7366531312465667\n",
      "Loss: 0.7657708982626598\n",
      "Loss: 0.7584661245346069\n",
      "Loss: 0.7193971971670786\n",
      "Loss: 0.712897785504659\n",
      "Loss: 0.6711361368497213\n",
      "Loss: 0.6698016663392384\n",
      "Loss: 0.6387000262737275\n",
      "Loss: 0.6677338004112243\n",
      "Loss: 0.6739308754603068\n",
      "Loss: 0.6302365402380625\n",
      "Loss: 0.6484778344631195\n",
      "Running epoch: 1\n",
      "Loss: 0.4806691567103068\n",
      "Loss: 0.664670945207278\n",
      "Loss: 0.604243419567744\n",
      "Loss: 0.6409140914678574\n",
      "Loss: 0.6365288257598877\n",
      "Loss: 0.6118223438660304\n",
      "Loss: 0.5669611632823944\n",
      "Loss: 0.6098993341128032\n",
      "Loss: 0.6124959369500478\n",
      "Loss: 0.580528324842453\n",
      "Loss: 0.5911883513132731\n",
      "Loss: 0.5766367216904958\n",
      "Loss: 0.5654084235429764\n",
      "Loss: 0.5541494359572728\n",
      "Loss: 0.5546475360790889\n",
      "Loss: 0.5476386119922002\n",
      "Loss: 0.5871157050132751\n",
      "Loss: 0.5834170172611872\n",
      "Loss: 0.5387949079275132\n",
      "Loss: 0.5525367617607116\n",
      "Loss: 0.5970685521761576\n",
      "Loss: 0.5521587451299032\n",
      "Loss: 0.5983489513397217\n",
      "Loss: 0.5540954530239105\n",
      "Loss: 0.5500651727120082\n",
      "Loss: 0.5701094498236974\n",
      "Loss: 0.5579776455958684\n",
      "Loss: 0.5363724937041601\n",
      "Loss: 0.5171276777982712\n",
      "Loss: 0.5188670148452122\n",
      "Loss: 0.5335974136988322\n",
      "Running epoch: 2\n",
      "Loss: 0.25439903934796654\n",
      "Loss: 0.49863943258921306\n",
      "Loss: 0.5384913841883342\n",
      "Loss: 0.5320040126641591\n",
      "Loss: 0.523090647161007\n",
      "Loss: 0.5375621924797694\n",
      "Loss: 0.546282751361529\n",
      "Loss: 0.5205579817295074\n",
      "Loss: 0.5363856613636017\n",
      "Loss: 0.518170244495074\n",
      "Loss: 0.5360403706630071\n",
      "Loss: 0.4993715206782023\n",
      "Loss: 0.5196228822072347\n",
      "Loss: 0.5250008116165797\n",
      "Loss: 0.49954537947972616\n",
      "Loss: 0.4865103999773661\n",
      "Loss: 0.49798641403516136\n",
      "Loss: 0.5033419569333394\n",
      "Loss: 0.503749371568362\n",
      "Loss: 0.5493952949841817\n",
      "Loss: 0.5225371241569519\n",
      "Loss: 0.46672086119651796\n",
      "Loss: 0.49369705021381377\n",
      "Loss: 0.48282814025878906\n",
      "Loss: 0.4979211429754893\n",
      "Loss: 0.481980636715889\n",
      "Loss: 0.4552268515030543\n",
      "Loss: 0.5013195147116979\n",
      "Loss: 0.5059763014316558\n",
      "Loss: 0.4940782725811005\n",
      "Loss: 0.4991226534048716\n"
     ]
    }
   ],
   "source": [
    "# TODO: Train the network here\n",
    "epochs: int = 3\n",
    "print_loss: int = 30\n",
    "step: int = 0\n",
    "\n",
    "for e in range(epochs):\n",
    "    print(f'''Running epoch: {e}''')\n",
    "    running_loss: float = 0.0\n",
    "    for images, labels in iter(trainloader):\n",
    "        step += 1\n",
    "        optimizer.zero_grad()\n",
    "        \n",
    "        output = net.forward(images)\n",
    "        loss = criterion(output, labels)\n",
    "        loss.backward()\n",
    "        optimizer.step()\n",
    "        \n",
    "        running_loss += loss.item()\n",
    "        \n",
    "        if step % print_loss == 0:\n",
    "            print(f'''Loss: {running_loss/print_loss}''')\n",
    "            running_loss = 0"
   ]
  },
  {
   "cell_type": "code",
   "execution_count": 46,
   "metadata": {},
   "outputs": [
    {
     "data": {
      "image/png": "[encoded data removed]",
      "text/plain": [
       "<matplotlib.figure.Figure at 0x7f0c2b753320>"
      ]
     },
     "metadata": {
      "image/png": {
       "height": 204,
       "width": 423
      },
      "needs_background": "light"
     },
     "output_type": "display_data"
    }
   ],
   "source": [
    "# Test out your network!\n",
    "\n",
    "dataiter = iter(testloader)\n",
    "images, labels = dataiter.next()\n",
    "img = images[10]\n",
    "\n",
    "# TODO: Calculate the class probabilities (softmax) for img\n",
    "img.unsqueeze_(0)\n",
    "with torch.no_grad():\n",
    "    logits = net.forward(img)\n",
    "ps = F.softmax(logits, dim=1)\n",
    "\n",
    "# Plot the image and probabilities\n",
    "helper.view_classify(img.resize_(1, 28, 28), ps, version='Fashion')"
   ]
  },
  {
   "cell_type": "markdown",
   "metadata": {},
   "source": [
    "Now that your network is trained, you'll want to save it to disk so you can load it later instead of training it again. Obviously, it's impractical to train a network every time you need one. In practice, you'll train it once, save the model, then reload it for further training or making predictions. In the next part, I'll show you how to save and load trained models."
   ]
  }
 ],
 "metadata": {
  "kernelspec": {
   "display_name": "Python 3",
   "language": "python",
   "name": "python3"
  },
  "language_info": {
   "codemirror_mode": {
    "name": "ipython",
    "version": 3
   },
   "file_extension": ".py",
   "mimetype": "text/x-python",
   "name": "python",
   "nbconvert_exporter": "python",
   "pygments_lexer": "ipython3",
   "version": "3.6.3"
  }
 },
 "nbformat": 4,
 "nbformat_minor": 2
}
